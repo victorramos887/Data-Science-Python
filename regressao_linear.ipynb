{
 "cells": [
  {
   "cell_type": "markdown",
   "metadata": {},
   "source": [
    "REGRESSÃO LINEAR SIMPLES"
   ]
  },
  {
   "cell_type": "markdown",
   "metadata": {},
   "source": [
    "Regressão linear simples quando temos apenas uma variável preditiva \\\n",
    "\n",
    "\n",
    "y = $b_{0}$  + $b_{1}$ + $x_{i}$\n",
    "\n",
    "\n",
    "Erro:\n",
    "Mean squere error (MSE)\n",
    "\n",
    "MSE = $\\frac{1}{N}\\sum\\limits_{i=1}^{N}(f_{i} - y_{i})^{2}$\n"
   ]
  },
  {
   "cell_type": "code",
   "execution_count": 2,
   "metadata": {},
   "outputs": [],
   "source": [
    "import numpy as np\n",
    "import pandas as pd\n",
    "from sklearn.linear_model import LinearRegression\n",
    "import matplotlib.pyplot as plt"
   ]
  },
  {
   "cell_type": "code",
   "execution_count": 31,
   "metadata": {},
   "outputs": [],
   "source": [
    "df_test = pd.read_csv(r'.\\csv\\house_prices_test.csv')\n",
    "df_train = pd.read_csv(r'.\\csv\\house_prices_train.csv')\n",
    "sample_submission = pd.read_csv(f'.\\csv\\sample_submission.csv')\n",
    "\n",
    "dataframetest = pd.merge(df_test, sample_submission, on ='Id')\n",
    "\n"
   ]
  },
  {
   "cell_type": "code",
   "execution_count": 26,
   "metadata": {},
   "outputs": [
    {
     "data": {
      "text/plain": [
       "(1460, 1)"
      ]
     },
     "execution_count": 26,
     "metadata": {},
     "output_type": "execute_result"
    }
   ],
   "source": [
    "x = df_train.iloc[:, 4].values\n",
    "y = df_train.iloc[:, -1].values\n",
    "\n",
    "correlacao = np.corrcoef(x, y)\n",
    "\n",
    "\n",
    "x = np.reshape(x, (-1, 1))\n",
    "\n",
    "x.shape"
   ]
  },
  {
   "cell_type": "code",
   "execution_count": 27,
   "metadata": {},
   "outputs": [
    {
     "data": {
      "text/plain": [
       "[<matplotlib.lines.Line2D at 0x15ce069b9d0>]"
      ]
     },
     "execution_count": 27,
     "metadata": {},
     "output_type": "execute_result"
    },
    {
     "data": {
      "image/png": "[encoded data removed]",
      "text/plain": [
       "<Figure size 432x288 with 1 Axes>"
      ]
     },
     "metadata": {},
     "output_type": "display_data"
    }
   ],
   "source": [
    "\n",
    "regression = LinearRegression().fit(x, y)\n",
    "predictline = regression.predict(x)\n",
    "\n",
    "\n",
    "plt.scatter(x, y)\n",
    "plt.plot(x, regression.predict(x), color = 'red')\n",
    "\n",
    "\n",
    "\n"
   ]
  },
  {
   "cell_type": "code",
   "execution_count": 28,
   "metadata": {},
   "outputs": [
    {
     "name": "stdout",
     "output_type": "stream",
     "text": [
      "211335.45068956848\n",
      "211335.45068956848\n"
     ]
    }
   ],
   "source": [
    "previsao1 = regression.predict([[25000]])\n",
    "previsao2 = regression.intercept_ + regression.coef_ * 25000\n",
    "\n",
    "print(previsao1[0])\n",
    "print(previsao2[0])\n"
   ]
  },
  {
   "cell_type": "code",
   "execution_count": 54,
   "metadata": {},
   "outputs": [
    {
     "data": {
      "text/plain": [
       "2.922447137486261e+17"
      ]
     },
     "execution_count": 54,
     "metadata": {},
     "output_type": "execute_result"
    }
   ],
   "source": [
    "SalePrice = np.reshape(dataframetest.iloc[:,-1].values, (-1, 1))\n",
    "\n",
    "dataframetest['Resultado']= pd.to_numeric(regression.predict(SalePrice))\n",
    "\n",
    "erro = 1/ 1456 * sum((dataframetest['SalePrice'] - dataframetest['Resultado'])**2)\n",
    "erro"
   ]
  }
 ],
 "metadata": {
  "interpreter": {
   "hash": "74318d29d7667f070e157a93e4c8d82f1156344b5d7e6607f82cca9d2c6dd821"
  },
  "kernelspec": {
   "display_name": "Python 3.8.10 ('venv': venv)",
   "language": "python",
   "name": "python3"
  },
  "language_info": {
   "codemirror_mode": {
    "name": "ipython",
    "version": 3
   },
   "file_extension": ".py",
   "mimetype": "text/x-python",
   "name": "python",
   "nbconvert_exporter": "python",
   "pygments_lexer": "ipython3",
   "version": "3.9.7"
  },
  "orig_nbformat": 4
 },
 "nbformat": 4,
 "nbformat_minor": 2
}
