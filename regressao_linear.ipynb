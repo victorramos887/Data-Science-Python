{
 "cells": [
  {
   "cell_type": "markdown",
   "metadata": {},
   "source": [
    "REGRESSÃO LINEAR SIMPLES"
   ]
  },
  {
   "cell_type": "markdown",
   "metadata": {},
   "source": [
    "Regressão linear simples quando temos apenas uma variável preditiva \\\n",
    "\n",
    "\n",
    "y = $b_{0}$  + $b_{1}$ + $x_{i}$\n",
    "\n",
    "\n",
    "Erro:\n",
    "Mean squere error (MSE)\n",
    "\n",
    "MSE = $\\frac{1}{N}\\sum\\limits_{i=1}^{N}(f_{i} - y_{i})^{2}$\n",
    "\n",
    "\n",
    "#criando um tabela no markdown do jupyter\n",
    "\n",
    "|Tabela|para testes | estatitiscos|\n",
    "| --- | --- | ---|\n",
    "|1|análise|regressão|\n",
    "| --- | --- | ---|\n",
    "|2|verificar|nãofoi feito|\n"
   ]
  }
 ],
 "metadata": {
  "interpreter": {
   "hash": "74318d29d7667f070e157a93e4c8d82f1156344b5d7e6607f82cca9d2c6dd821"
  },
  "kernelspec": {
   "display_name": "Python 3.8.10 ('venv': venv)",
   "language": "python",
   "name": "python3"
  },
  "language_info": {
   "name": "python",
   "version": "3.8.10"
  },
  "orig_nbformat": 4
 },
 "nbformat": 4,
 "nbformat_minor": 2
}
