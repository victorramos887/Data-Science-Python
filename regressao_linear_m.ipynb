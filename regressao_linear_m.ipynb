{
 "cells": [
  {
   "cell_type": "code",
   "execution_count": 1,
   "metadata": {},
   "outputs": [],
   "source": [
    "import pandas as pd\n",
    "import matplotlib.pyplot as plt\n",
    "from math import *\n",
    "\n"
   ]
  },
  {
   "cell_type": "code",
   "execution_count": 41,
   "metadata": {},
   "outputs": [
    {
     "data": {
      "text/html": [
       "<div>\n",
       "<style scoped>\n",
       "    .dataframe tbody tr th:only-of-type {\n",
       "        vertical-align: middle;\n",
       "    }\n",
       "\n",
       "    .dataframe tbody tr th {\n",
       "        vertical-align: top;\n",
       "    }\n",
       "\n",
       "    .dataframe thead th {\n",
       "        text-align: right;\n",
       "    }\n",
       "</style>\n",
       "<table border=\"1\" class=\"dataframe\">\n",
       "  <thead>\n",
       "    <tr style=\"text-align: right;\">\n",
       "      <th></th>\n",
       "      <th>Tempo (Y)</th>\n",
       "      <th>Distância (X)</th>\n",
       "    </tr>\n",
       "  </thead>\n",
       "  <tbody>\n",
       "    <tr>\n",
       "      <th>0</th>\n",
       "      <td>85</td>\n",
       "      <td>45</td>\n",
       "    </tr>\n",
       "    <tr>\n",
       "      <th>1</th>\n",
       "      <td>90</td>\n",
       "      <td>46</td>\n",
       "    </tr>\n",
       "    <tr>\n",
       "      <th>2</th>\n",
       "      <td>21</td>\n",
       "      <td>16</td>\n",
       "    </tr>\n",
       "    <tr>\n",
       "      <th>3</th>\n",
       "      <td>40</td>\n",
       "      <td>32</td>\n",
       "    </tr>\n",
       "    <tr>\n",
       "      <th>4</th>\n",
       "      <td>50</td>\n",
       "      <td>39</td>\n",
       "    </tr>\n",
       "    <tr>\n",
       "      <th>5</th>\n",
       "      <td>25</td>\n",
       "      <td>18</td>\n",
       "    </tr>\n",
       "    <tr>\n",
       "      <th>6</th>\n",
       "      <td>10</td>\n",
       "      <td>7</td>\n",
       "    </tr>\n",
       "    <tr>\n",
       "      <th>7</th>\n",
       "      <td>55</td>\n",
       "      <td>41</td>\n",
       "    </tr>\n",
       "    <tr>\n",
       "      <th>8</th>\n",
       "      <td>35</td>\n",
       "      <td>28</td>\n",
       "    </tr>\n",
       "    <tr>\n",
       "      <th>9</th>\n",
       "      <td>30</td>\n",
       "      <td>24</td>\n",
       "    </tr>\n",
       "  </tbody>\n",
       "</table>\n",
       "</div>"
      ],
      "text/plain": [
       "   Tempo (Y)  Distância (X)\n",
       "0         85             45\n",
       "1         90             46\n",
       "2         21             16\n",
       "3         40             32\n",
       "4         50             39\n",
       "5         25             18\n",
       "6         10              7\n",
       "7         55             41\n",
       "8         35             28\n",
       "9         30             24"
      ]
     },
     "execution_count": 41,
     "metadata": {},
     "output_type": "execute_result"
    }
   ],
   "source": [
    "#Carregar arquivo de tempo x distância\n",
    "data = pd.read_excel(r'.\\xls\\tempodist.xls', sheet_name='Plan3')\n",
    "data"
   ]
  },
  {
   "cell_type": "code",
   "execution_count": 42,
   "metadata": {},
   "outputs": [
    {
     "data": {
      "text/html": [
       "<div>\n",
       "<style scoped>\n",
       "    .dataframe tbody tr th:only-of-type {\n",
       "        vertical-align: middle;\n",
       "    }\n",
       "\n",
       "    .dataframe tbody tr th {\n",
       "        vertical-align: top;\n",
       "    }\n",
       "\n",
       "    .dataframe thead th {\n",
       "        text-align: right;\n",
       "    }\n",
       "</style>\n",
       "<table border=\"1\" class=\"dataframe\">\n",
       "  <thead>\n",
       "    <tr style=\"text-align: right;\">\n",
       "      <th></th>\n",
       "      <th>Tempo (Y)</th>\n",
       "      <th>Distância (X)</th>\n",
       "    </tr>\n",
       "  </thead>\n",
       "  <tbody>\n",
       "    <tr>\n",
       "      <th>count</th>\n",
       "      <td>10.0000</td>\n",
       "      <td>10.00000</td>\n",
       "    </tr>\n",
       "    <tr>\n",
       "      <th>mean</th>\n",
       "      <td>44.1000</td>\n",
       "      <td>29.60000</td>\n",
       "    </tr>\n",
       "    <tr>\n",
       "      <th>std</th>\n",
       "      <td>26.4426</td>\n",
       "      <td>13.30998</td>\n",
       "    </tr>\n",
       "    <tr>\n",
       "      <th>min</th>\n",
       "      <td>10.0000</td>\n",
       "      <td>7.00000</td>\n",
       "    </tr>\n",
       "    <tr>\n",
       "      <th>25%</th>\n",
       "      <td>26.2500</td>\n",
       "      <td>19.50000</td>\n",
       "    </tr>\n",
       "    <tr>\n",
       "      <th>50%</th>\n",
       "      <td>37.5000</td>\n",
       "      <td>30.00000</td>\n",
       "    </tr>\n",
       "    <tr>\n",
       "      <th>75%</th>\n",
       "      <td>53.7500</td>\n",
       "      <td>40.50000</td>\n",
       "    </tr>\n",
       "    <tr>\n",
       "      <th>max</th>\n",
       "      <td>90.0000</td>\n",
       "      <td>46.00000</td>\n",
       "    </tr>\n",
       "  </tbody>\n",
       "</table>\n",
       "</div>"
      ],
      "text/plain": [
       "       Tempo (Y)  Distância (X)\n",
       "count    10.0000       10.00000\n",
       "mean     44.1000       29.60000\n",
       "std      26.4426       13.30998\n",
       "min      10.0000        7.00000\n",
       "25%      26.2500       19.50000\n",
       "50%      37.5000       30.00000\n",
       "75%      53.7500       40.50000\n",
       "max      90.0000       46.00000"
      ]
     },
     "execution_count": 42,
     "metadata": {},
     "output_type": "execute_result"
    }
   ],
   "source": [
    "#Estatística univariadas\n",
    "data[['Tempo (Y)', 'Distância (X)']].describe()\n"
   ]
  },
  {
   "cell_type": "markdown",
   "metadata": {},
   "source": [
    "Criando um objecto para calcular a regressão linear\n",
    "\n",
    "Equação da Reta: $y = A + Bx$\n",
    "\n",
    "coeficiênte angular (B): $$B = \\frac{n\\sum x_{i}y_{i} - \\sum x_{i} \\sum y_{i}}{n \\sum x_{i}^{2} - (\\sum x_{i}^{2})}$$\n",
    "\n",
    "coeficiênte linear (A): $$A = \\frac{\\sum y - B . \\sum x}{n}$$\n",
    "\n",
    "coeficiênte de correlação:\n",
    "\n",
    "$$ r_{x,y} = \\frac{n \\sum x_{i} y_{i} - \\sum x_{i} \\sum y_{i}}{\\sqrt{n \\sum x_{i}^{2} - (\\sum x_{i})^{2}} \\sqrt{n \\sum y_{i}^{2} - (\\sum y_{i})^{2}}}$$\n"
   ]
  },
  {
   "cell_type": "code",
   "execution_count": 45,
   "metadata": {},
   "outputs": [
    {
     "data": {
      "text/plain": [
       "67.06146512794781"
      ]
     },
     "execution_count": 45,
     "metadata": {},
     "output_type": "execute_result"
    }
   ],
   "source": [
    "class RegressaoLinear():\n",
    "    def __init__(self, x, y):\n",
    "        self.x = x\n",
    "        self.y = y\n",
    "        self.count = x.count()\n",
    "\n",
    "        self.matriz = pd.DataFrame()\n",
    "        self.matriz['x'] = self.x\n",
    "        self.matriz['y'] = self.y\n",
    "        self.matriz['x²'] = self.x ** 2\n",
    "        self.matriz['y²'] = self.y ** 2\n",
    "        self.matriz['xy'] = self.y * self.x\n",
    "        self.matriz['yhat'] = self.yhat()\n",
    "\n",
    "    def coeficienteAngular(self):\n",
    "        return (self.count * self.matriz['xy'].sum() - self.matriz['x'].sum() * self.matriz['y'].sum())/ (self.count * self.matriz['x²'].sum()  - (self.matriz['x'].sum())**2)\n",
    "\n",
    "    def coeficienteLinear(self):\n",
    "        return (self.matriz['y'].sum() - self.coeficienteAngular() * self.matriz['x'].sum())/self.count\n",
    "\n",
    "    def coefCorr(self):\n",
    "        return (self.count * self.matriz['xy'].sum() - self.matriz['x'].sum() * self.matriz['y'].sum())/(sqrt(self.count * self.matriz['x²'].sum() - (self.matriz['x'].sum())**2) * sqrt(self.count * self.matriz['y²'].sum() - (self.matriz['y'].sum()) ** 2))\n",
    "\n",
    "    def yhat(self):\n",
    "        return (self.coeficienteLinear() + self.coeficienteAngular() * self.matriz['x'])\n",
    "\n",
    "    def erro(self):\n",
    "        return (self.matriz['y'] - self.matriz['yhat'])\n",
    "\n",
    "    def squared_erro(self):\n",
    "        return (self.erro()**2)\n",
    "\n",
    "    def equacaoReta(self, valorX):\n",
    "        if valorX > self.matriz['x'].max():\n",
    "            return f'Não é possível extrapolar o range dos dados coletado .Por Favornseira um valor entre {self.matriz[\"x\"].max()} e {self.matriz[\"x\"].min()}'\n",
    "        resultado = self.coeficienteLinear() + self.coeficienteAngular() * float(valorX)\n",
    "        return resultado\n",
    "\n",
    "rlm = RegressaoLinear(data['Distância (X)'], data['Tempo (Y)'])\n",
    "\n",
    "#Buscar por resultado\n",
    "rlm.equacaoReta(42)\n",
    "\n"
   ]
  },
  {
   "cell_type": "code",
   "execution_count": 44,
   "metadata": {},
   "outputs": [
    {
     "data": {
      "text/plain": [
       "[<matplotlib.lines.Line2D at 0x25bbaf8f8b0>]"
      ]
     },
     "execution_count": 44,
     "metadata": {},
     "output_type": "execute_result"
    },
    {
     "data": {
      "image/png": "[encoded data removed]",
      "text/plain": [
       "<Figure size 432x288 with 1 Axes>"
      ]
     },
     "metadata": {},
     "output_type": "display_data"
    }
   ],
   "source": [
    "plt.scatter(x = rlm.matriz['x'], y = rlm.matriz['y'])\n",
    "plt.plot(rlm.matriz['x'], rlm.matriz['yhat'], color = 'red')"
   ]
  }
 ],
 "metadata": {
  "interpreter": {
   "hash": "bfb68b2225589cc316d30e88ba24c3eabd5288851e9550411c910978f96ab4d6"
  },
  "kernelspec": {
   "display_name": "Python 3.10.2 64-bit",
   "language": "python",
   "name": "python3"
  },
  "language_info": {
   "codemirror_mode": {
    "name": "ipython",
    "version": 3
   },
   "file_extension": ".py",
   "mimetype": "text/x-python",
   "name": "python",
   "nbconvert_exporter": "python",
   "pygments_lexer": "ipython3",
   "version": "3.8.8"
  },
  "orig_nbformat": 4
 },
 "nbformat": 4,
 "nbformat_minor": 2
}
