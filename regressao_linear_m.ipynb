{
 "cells": [
  {
   "cell_type": "code",
   "execution_count": 38,
   "metadata": {},
   "outputs": [],
   "source": [
    "import pandas as pd\n",
    "import matplotlib.pyplot as plt\n",
    "from math import *\n",
    "import plotly.express as px\n",
    "import plotly.graph_objects as go"
   ]
  },
  {
   "cell_type": "code",
   "execution_count": 39,
   "metadata": {},
   "outputs": [
    {
     "data": {
      "text/html": [
       "<div>\n",
       "<style scoped>\n",
       "    .dataframe tbody tr th:only-of-type {\n",
       "        vertical-align: middle;\n",
       "    }\n",
       "\n",
       "    .dataframe tbody tr th {\n",
       "        vertical-align: top;\n",
       "    }\n",
       "\n",
       "    .dataframe thead th {\n",
       "        text-align: right;\n",
       "    }\n",
       "</style>\n",
       "<table border=\"1\" class=\"dataframe\">\n",
       "  <thead>\n",
       "    <tr style=\"text-align: right;\">\n",
       "      <th></th>\n",
       "      <th>Tempo (Y)</th>\n",
       "      <th>Distância (X)</th>\n",
       "    </tr>\n",
       "  </thead>\n",
       "  <tbody>\n",
       "    <tr>\n",
       "      <th>0</th>\n",
       "      <td>85</td>\n",
       "      <td>45</td>\n",
       "    </tr>\n",
       "    <tr>\n",
       "      <th>1</th>\n",
       "      <td>90</td>\n",
       "      <td>46</td>\n",
       "    </tr>\n",
       "    <tr>\n",
       "      <th>2</th>\n",
       "      <td>21</td>\n",
       "      <td>16</td>\n",
       "    </tr>\n",
       "    <tr>\n",
       "      <th>3</th>\n",
       "      <td>40</td>\n",
       "      <td>32</td>\n",
       "    </tr>\n",
       "    <tr>\n",
       "      <th>4</th>\n",
       "      <td>50</td>\n",
       "      <td>39</td>\n",
       "    </tr>\n",
       "    <tr>\n",
       "      <th>5</th>\n",
       "      <td>25</td>\n",
       "      <td>18</td>\n",
       "    </tr>\n",
       "    <tr>\n",
       "      <th>6</th>\n",
       "      <td>10</td>\n",
       "      <td>7</td>\n",
       "    </tr>\n",
       "    <tr>\n",
       "      <th>7</th>\n",
       "      <td>55</td>\n",
       "      <td>41</td>\n",
       "    </tr>\n",
       "    <tr>\n",
       "      <th>8</th>\n",
       "      <td>35</td>\n",
       "      <td>28</td>\n",
       "    </tr>\n",
       "    <tr>\n",
       "      <th>9</th>\n",
       "      <td>30</td>\n",
       "      <td>24</td>\n",
       "    </tr>\n",
       "  </tbody>\n",
       "</table>\n",
       "</div>"
      ],
      "text/plain": [
       "   Tempo (Y)  Distância (X)\n",
       "0         85             45\n",
       "1         90             46\n",
       "2         21             16\n",
       "3         40             32\n",
       "4         50             39\n",
       "5         25             18\n",
       "6         10              7\n",
       "7         55             41\n",
       "8         35             28\n",
       "9         30             24"
      ]
     },
     "execution_count": 39,
     "metadata": {},
     "output_type": "execute_result"
    }
   ],
   "source": [
    "#Carregar arquivo de tempo x distância\n",
    "data = pd.read_excel(r'.\\xls\\tempodist.xls', sheet_name='Plan3')\n",
    "data"
   ]
  },
  {
   "cell_type": "code",
   "execution_count": 40,
   "metadata": {},
   "outputs": [
    {
     "data": {
      "text/html": [
       "<div>\n",
       "<style scoped>\n",
       "    .dataframe tbody tr th:only-of-type {\n",
       "        vertical-align: middle;\n",
       "    }\n",
       "\n",
       "    .dataframe tbody tr th {\n",
       "        vertical-align: top;\n",
       "    }\n",
       "\n",
       "    .dataframe thead th {\n",
       "        text-align: right;\n",
       "    }\n",
       "</style>\n",
       "<table border=\"1\" class=\"dataframe\">\n",
       "  <thead>\n",
       "    <tr style=\"text-align: right;\">\n",
       "      <th></th>\n",
       "      <th>Tempo (Y)</th>\n",
       "      <th>Distância (X)</th>\n",
       "    </tr>\n",
       "  </thead>\n",
       "  <tbody>\n",
       "    <tr>\n",
       "      <th>count</th>\n",
       "      <td>10.0000</td>\n",
       "      <td>10.00000</td>\n",
       "    </tr>\n",
       "    <tr>\n",
       "      <th>mean</th>\n",
       "      <td>44.1000</td>\n",
       "      <td>29.60000</td>\n",
       "    </tr>\n",
       "    <tr>\n",
       "      <th>std</th>\n",
       "      <td>26.4426</td>\n",
       "      <td>13.30998</td>\n",
       "    </tr>\n",
       "    <tr>\n",
       "      <th>min</th>\n",
       "      <td>10.0000</td>\n",
       "      <td>7.00000</td>\n",
       "    </tr>\n",
       "    <tr>\n",
       "      <th>25%</th>\n",
       "      <td>26.2500</td>\n",
       "      <td>19.50000</td>\n",
       "    </tr>\n",
       "    <tr>\n",
       "      <th>50%</th>\n",
       "      <td>37.5000</td>\n",
       "      <td>30.00000</td>\n",
       "    </tr>\n",
       "    <tr>\n",
       "      <th>75%</th>\n",
       "      <td>53.7500</td>\n",
       "      <td>40.50000</td>\n",
       "    </tr>\n",
       "    <tr>\n",
       "      <th>max</th>\n",
       "      <td>90.0000</td>\n",
       "      <td>46.00000</td>\n",
       "    </tr>\n",
       "  </tbody>\n",
       "</table>\n",
       "</div>"
      ],
      "text/plain": [
       "       Tempo (Y)  Distância (X)\n",
       "count    10.0000       10.00000\n",
       "mean     44.1000       29.60000\n",
       "std      26.4426       13.30998\n",
       "min      10.0000        7.00000\n",
       "25%      26.2500       19.50000\n",
       "50%      37.5000       30.00000\n",
       "75%      53.7500       40.50000\n",
       "max      90.0000       46.00000"
      ]
     },
     "execution_count": 40,
     "metadata": {},
     "output_type": "execute_result"
    }
   ],
   "source": [
    "#Estatística univariadas\n",
    "data[['Tempo (Y)', 'Distância (X)']].describe()\n"
   ]
  },
  {
   "cell_type": "markdown",
   "metadata": {},
   "source": [
    "Criando um objecto para calcular a regressão linear\n",
    "\n",
    "Equação da Reta: $y = A + Bx$\n",
    "\n",
    "coeficiênte angular (B): $$B = \\frac{n\\sum x_{i}y_{i} - \\sum x_{i} \\sum y_{i}}{n \\sum x_{i}^{2} - (\\sum x_{i}^{2})}$$\n",
    "\n",
    "coeficiênte linear (A): $$A = \\frac{\\sum y - B . \\sum x}{n}$$\n",
    "\n",
    "coeficiênte de correlação:\n",
    "\n",
    "$$ r_{x,y} = \\frac{n \\sum x_{i} y_{i} - \\sum x_{i} \\sum y_{i}}{\\sqrt{n \\sum x_{i}^{2} - (\\sum x_{i})^{2}} \\sqrt{n \\sum y_{i}^{2} - (\\sum y_{i})^{2}}}$$\n"
   ]
  },
  {
   "cell_type": "code",
   "execution_count": 129,
   "metadata": {},
   "outputs": [
    {
     "data": {
      "text/html": [
       "<div>\n",
       "<style scoped>\n",
       "    .dataframe tbody tr th:only-of-type {\n",
       "        vertical-align: middle;\n",
       "    }\n",
       "\n",
       "    .dataframe tbody tr th {\n",
       "        vertical-align: top;\n",
       "    }\n",
       "\n",
       "    .dataframe thead th {\n",
       "        text-align: right;\n",
       "    }\n",
       "</style>\n",
       "<table border=\"1\" class=\"dataframe\">\n",
       "  <thead>\n",
       "    <tr style=\"text-align: right;\">\n",
       "      <th></th>\n",
       "      <th>x</th>\n",
       "      <th>y</th>\n",
       "      <th>x²</th>\n",
       "      <th>y²</th>\n",
       "      <th>xy</th>\n",
       "      <th>yhat</th>\n",
       "    </tr>\n",
       "  </thead>\n",
       "  <tbody>\n",
       "    <tr>\n",
       "      <th>0</th>\n",
       "      <td>45</td>\n",
       "      <td>85</td>\n",
       "      <td>2025</td>\n",
       "      <td>7225</td>\n",
       "      <td>3825</td>\n",
       "      <td>72.616658</td>\n",
       "    </tr>\n",
       "    <tr>\n",
       "      <th>1</th>\n",
       "      <td>46</td>\n",
       "      <td>90</td>\n",
       "      <td>2116</td>\n",
       "      <td>8100</td>\n",
       "      <td>4140</td>\n",
       "      <td>74.468389</td>\n",
       "    </tr>\n",
       "    <tr>\n",
       "      <th>2</th>\n",
       "      <td>16</td>\n",
       "      <td>21</td>\n",
       "      <td>256</td>\n",
       "      <td>441</td>\n",
       "      <td>336</td>\n",
       "      <td>18.916458</td>\n",
       "    </tr>\n",
       "    <tr>\n",
       "      <th>3</th>\n",
       "      <td>32</td>\n",
       "      <td>40</td>\n",
       "      <td>1024</td>\n",
       "      <td>1600</td>\n",
       "      <td>1280</td>\n",
       "      <td>48.544155</td>\n",
       "    </tr>\n",
       "    <tr>\n",
       "      <th>4</th>\n",
       "      <td>39</td>\n",
       "      <td>50</td>\n",
       "      <td>1521</td>\n",
       "      <td>2500</td>\n",
       "      <td>1950</td>\n",
       "      <td>61.506272</td>\n",
       "    </tr>\n",
       "    <tr>\n",
       "      <th>5</th>\n",
       "      <td>18</td>\n",
       "      <td>25</td>\n",
       "      <td>324</td>\n",
       "      <td>625</td>\n",
       "      <td>450</td>\n",
       "      <td>22.619920</td>\n",
       "    </tr>\n",
       "    <tr>\n",
       "      <th>6</th>\n",
       "      <td>7</td>\n",
       "      <td>10</td>\n",
       "      <td>49</td>\n",
       "      <td>100</td>\n",
       "      <td>70</td>\n",
       "      <td>2.250878</td>\n",
       "    </tr>\n",
       "    <tr>\n",
       "      <th>7</th>\n",
       "      <td>41</td>\n",
       "      <td>55</td>\n",
       "      <td>1681</td>\n",
       "      <td>3025</td>\n",
       "      <td>2255</td>\n",
       "      <td>65.209734</td>\n",
       "    </tr>\n",
       "    <tr>\n",
       "      <th>8</th>\n",
       "      <td>28</td>\n",
       "      <td>35</td>\n",
       "      <td>784</td>\n",
       "      <td>1225</td>\n",
       "      <td>980</td>\n",
       "      <td>41.137230</td>\n",
       "    </tr>\n",
       "    <tr>\n",
       "      <th>9</th>\n",
       "      <td>24</td>\n",
       "      <td>30</td>\n",
       "      <td>576</td>\n",
       "      <td>900</td>\n",
       "      <td>720</td>\n",
       "      <td>33.730306</td>\n",
       "    </tr>\n",
       "  </tbody>\n",
       "</table>\n",
       "</div>"
      ],
      "text/plain": [
       "    x   y    x²    y²    xy       yhat\n",
       "0  45  85  2025  7225  3825  72.616658\n",
       "1  46  90  2116  8100  4140  74.468389\n",
       "2  16  21   256   441   336  18.916458\n",
       "3  32  40  1024  1600  1280  48.544155\n",
       "4  39  50  1521  2500  1950  61.506272\n",
       "5  18  25   324   625   450  22.619920\n",
       "6   7  10    49   100    70   2.250878\n",
       "7  41  55  1681  3025  2255  65.209734\n",
       "8  28  35   784  1225   980  41.137230\n",
       "9  24  30   576   900   720  33.730306"
      ]
     },
     "execution_count": 129,
     "metadata": {},
     "output_type": "execute_result"
    }
   ],
   "source": [
    "class RegressaoLinear():\n",
    "    def __init__(self, x, y):\n",
    "        self.x = x\n",
    "        self.y = y\n",
    "        self.count = x.count()\n",
    "\n",
    "        self.matriz = pd.DataFrame()\n",
    "        self.matriz['x'] = self.x\n",
    "        self.matriz['y'] = self.y\n",
    "        self.matriz['x²'] = self.x ** 2\n",
    "        self.matriz['y²'] = self.y ** 2\n",
    "        self.matriz['xy'] = self.y * self.x\n",
    "        self.matriz['yhat'] = self.yhat()\n",
    "\n",
    "    def coeficienteAngular(self):\n",
    "        return (self.count * self.matriz['xy'].sum() - self.matriz['x'].sum() * self.matriz['y'].sum())/ (self.count * self.matriz['x²'].sum()  - (self.matriz['x'].sum())**2)\n",
    "\n",
    "    def coeficienteLinear(self):\n",
    "        return (self.matriz['y'].sum() - self.coeficienteAngular() * self.matriz['x'].sum())/self.count\n",
    "\n",
    "    def coefCorr(self):\n",
    "        return (self.count * self.matriz['xy'].sum() - self.matriz['x'].sum() * self.matriz['y'].sum())/(sqrt(self.count * self.matriz['x²'].sum() - (self.matriz['x'].sum())**2) * sqrt(self.count * self.matriz['y²'].sum() - (self.matriz['y'].sum()) ** 2))\n",
    "\n",
    "    def yhat(self):\n",
    "        return (self.coeficienteLinear() + self.coeficienteAngular() * self.matriz['x'])\n",
    "\n",
    "    def erro(self):\n",
    "        return (self.matriz['yhat'] - self.matriz['y'])\n",
    "\n",
    "    def squared_erro(self):\n",
    "        return (self.erro()**2)\n",
    "    def equacaoReta(self, valorX):\n",
    "        if valorX > self.matriz['x'].max():\n",
    "            return f'Não é possível extrapolar o range dos dados coletado .Por Favornseira um valor entre {self.matriz[\"x\"].max()} e {self.matriz[\"x\"].min()}'\n",
    "        return self.coeficienteLinear() + self.coeficienteAngular() * float(valorX)\n",
    "    \n",
    "    def rSquared(self):\n",
    "        r = sum((self.matriz['yhat'] - self.matriz['y'].mean())**2)/(sum((self.matriz['yhat'] - self.matriz['y'].mean())**2) + sum(self.squared_erro()))\n",
    "        return r\n",
    "\n",
    "rlm = RegressaoLinear(data['Distância (X)'], data['Tempo (Y)'])\n",
    "\n",
    "#Buscar por resultado\n",
    "rlm.equacaoReta(42)\n",
    "\n",
    "rlm.matriz"
   ]
  },
  {
   "cell_type": "code",
   "execution_count": 42,
   "metadata": {},
   "outputs": [
    {
     "data": {
      "text/plain": [
       "[<matplotlib.lines.Line2D at 0x1c00c22fe20>]"
      ]
     },
     "execution_count": 42,
     "metadata": {},
     "output_type": "execute_result"
    },
    {
     "data": {
      "image/png": "[encoded data removed]",
      "text/plain": [
       "<Figure size 432x288 with 1 Axes>"
      ]
     },
     "metadata": {},
     "output_type": "display_data"
    }
   ],
   "source": [
    "plt.scatter(x = rlm.matriz['x'], y = rlm.matriz['y'])\n",
    "plt.plot(rlm.matriz['x'], rlm.matriz['yhat'], color = 'red')"
   ]
  },
  {
   "cell_type": "markdown",
   "metadata": {},
   "source": [
    "R² - O **coeficiênte de ajuste R²** é um um coefiênte que descrever o quanto sua variável $Y_{i}$ é explicada pelo comportamento da suas variávels explicativas.\n",
    "O R² pode variar entre 0 e 1, onde 1 seria uma correlação linear dos dados perfeita, tento então um modelo que passar perfeitamente por todos os pontos (uma correlação linear perfeita).\n",
    "\n",
    "SQR - Soma dos quadrados da regressão\n",
    "SQT - Soma total dos quadrados\n",
    "SQU - Soma dos quadrados dos resíduos\n",
    "\n",
    "\n",
    "$$R² = \\frac{SQR}{SQR + SQU}$$\n",
    "\n",
    "ou\n",
    "\n",
    "$$R² = \\frac{\\sum\\limits _{i=1}^{n} (\\hat{Y_{i}} - \\overline{Y})}{\\sum\\limits _{i = 1}^{n}(\\hat{Y_{i}} - \\overline{Y})^{2} + \\sum\\limits _{i = 1}^{n}(u_{i})^{2}}$$"
   ]
  },
  {
   "cell_type": "code",
   "execution_count": 132,
   "metadata": {},
   "outputs": [
    {
     "data": {
      "application/vnd.plotly.v1+json": {
       "config": {
        "plotlyServerURL": "https://plot.ly"
       },
       "data": [
        {
         "mode": "markers",
         "name": "Y",
         "type": "scatter",
         "x": [
          45,
          46,
          16,
          32,
          39,
          18,
          7,
          41,
          28,
          24
         ],
         "y": [
          85,
          90,
          21,
          40,
          50,
          25,
          10,
          55,
          35,
          30
         ]
        },
        {
         "mode": "lines",
         "name": "Yhat",
         "type": "scatter",
         "x": [
          45,
          46,
          16,
          32,
          39,
          18,
          7,
          41,
          28,
          24
         ],
         "y": [
          72.61665830406423,
          74.4683893627697,
          18.916457601605618,
          48.544154540893125,
          61.50627195183141,
          22.619919719016558,
          2.250878073256395,
          65.20973406924234,
          41.137230306071245,
          33.73030607124937
         ]
        },
        {
         "name": "Média",
         "type": "scatter",
         "x": [
          45,
          46,
          16,
          32,
          39,
          18,
          7,
          41,
          28,
          24
         ],
         "y": [
          44.1,
          44.1,
          44.1,
          44.1,
          44.1,
          44.1,
          44.1,
          44.1,
          44.1,
          44.1
         ]
        }
       ],
       "layout": {
        "shapes": [
         {
          "layer": "above",
          "line": {
           "color": "black",
           "width": 1
          },
          "opacity": 1,
          "type": "line",
          "x0": 45,
          "x1": 45,
          "y0": 85,
          "y1": 72.61665830406423
         },
         {
          "layer": "above",
          "line": {
           "color": "black",
           "width": 1
          },
          "opacity": 1,
          "type": "line",
          "x0": 46,
          "x1": 46,
          "y0": 90,
          "y1": 74.4683893627697
         },
         {
          "layer": "above",
          "line": {
           "color": "black",
           "width": 1
          },
          "opacity": 1,
          "type": "line",
          "x0": 16,
          "x1": 16,
          "y0": 21,
          "y1": 18.916457601605618
         },
         {
          "layer": "above",
          "line": {
           "color": "black",
           "width": 1
          },
          "opacity": 1,
          "type": "line",
          "x0": 32,
          "x1": 32,
          "y0": 40,
          "y1": 48.544154540893125
         },
         {
          "layer": "above",
          "line": {
           "color": "black",
           "width": 1
          },
          "opacity": 1,
          "type": "line",
          "x0": 39,
          "x1": 39,
          "y0": 50,
          "y1": 61.50627195183141
         },
         {
          "layer": "above",
          "line": {
           "color": "black",
           "width": 1
          },
          "opacity": 1,
          "type": "line",
          "x0": 18,
          "x1": 18,
          "y0": 25,
          "y1": 22.619919719016558
         },
         {
          "layer": "above",
          "line": {
           "color": "black",
           "width": 1
          },
          "opacity": 1,
          "type": "line",
          "x0": 7,
          "x1": 7,
          "y0": 10,
          "y1": 2.250878073256395
         },
         {
          "layer": "above",
          "line": {
           "color": "black",
           "width": 1
          },
          "opacity": 1,
          "type": "line",
          "x0": 41,
          "x1": 41,
          "y0": 55,
          "y1": 65.20973406924234
         },
         {
          "layer": "above",
          "line": {
           "color": "black",
           "width": 1
          },
          "opacity": 1,
          "type": "line",
          "x0": 28,
          "x1": 28,
          "y0": 35,
          "y1": 41.137230306071245
         },
         {
          "layer": "above",
          "line": {
           "color": "black",
           "width": 1
          },
          "opacity": 1,
          "type": "line",
          "x0": 24,
          "x1": 24,
          "y0": 30,
          "y1": 33.73030607124937
         },
         {
          "layer": "above",
          "line": {
           "color": "yellow",
           "width": 1
          },
          "opacity": 0.5,
          "type": "line",
          "x0": 45,
          "x1": 45,
          "y0": 85,
          "y1": 44.1
         },
         {
          "layer": "above",
          "line": {
           "color": "yellow",
           "width": 1
          },
          "opacity": 0.5,
          "type": "line",
          "x0": 46,
          "x1": 46,
          "y0": 90,
          "y1": 44.1
         },
         {
          "layer": "above",
          "line": {
           "color": "yellow",
           "width": 1
          },
          "opacity": 0.5,
          "type": "line",
          "x0": 16,
          "x1": 16,
          "y0": 21,
          "y1": 44.1
         },
         {
          "layer": "above",
          "line": {
           "color": "yellow",
           "width": 1
          },
          "opacity": 0.5,
          "type": "line",
          "x0": 32,
          "x1": 32,
          "y0": 40,
          "y1": 44.1
         },
         {
          "layer": "above",
          "line": {
           "color": "yellow",
           "width": 1
          },
          "opacity": 0.5,
          "type": "line",
          "x0": 39,
          "x1": 39,
          "y0": 50,
          "y1": 44.1
         },
         {
          "layer": "above",
          "line": {
           "color": "yellow",
           "width": 1
          },
          "opacity": 0.5,
          "type": "line",
          "x0": 18,
          "x1": 18,
          "y0": 25,
          "y1": 44.1
         },
         {
          "layer": "above",
          "line": {
           "color": "yellow",
           "width": 1
          },
          "opacity": 0.5,
          "type": "line",
          "x0": 7,
          "x1": 7,
          "y0": 10,
          "y1": 44.1
         },
         {
          "layer": "above",
          "line": {
           "color": "yellow",
           "width": 1
          },
          "opacity": 0.5,
          "type": "line",
          "x0": 41,
          "x1": 41,
          "y0": 55,
          "y1": 44.1
         },
         {
          "layer": "above",
          "line": {
           "color": "yellow",
           "width": 1
          },
          "opacity": 0.5,
          "type": "line",
          "x0": 28,
          "x1": 28,
          "y0": 35,
          "y1": 44.1
         },
         {
          "layer": "above",
          "line": {
           "color": "yellow",
           "width": 1
          },
          "opacity": 0.5,
          "type": "line",
          "x0": 24,
          "x1": 24,
          "y0": 30,
          "y1": 44.1
         }
        ],
        "template": {
         "data": {
          "bar": [
           {
            "error_x": {
             "color": "#2a3f5f"
            },
            "error_y": {
             "color": "#2a3f5f"
            },
            "marker": {
             "line": {
              "color": "#E5ECF6",
              "width": 0.5
             },
             "pattern": {
              "fillmode": "overlay",
              "size": 10,
              "solidity": 0.2
             }
            },
            "type": "bar"
           }
          ],
          "barpolar": [
           {
            "marker": {
             "line": {
              "color": "#E5ECF6",
              "width": 0.5
             },
             "pattern": {
              "fillmode": "overlay",
              "size": 10,
              "solidity": 0.2
             }
            },
            "type": "barpolar"
           }
          ],
          "carpet": [
           {
            "aaxis": {
             "endlinecolor": "#2a3f5f",
             "gridcolor": "white",
             "linecolor": "white",
             "minorgridcolor": "white",
             "startlinecolor": "#2a3f5f"
            },
            "baxis": {
             "endlinecolor": "#2a3f5f",
             "gridcolor": "white",
             "linecolor": "white",
             "minorgridcolor": "white",
             "startlinecolor": "#2a3f5f"
            },
            "type": "carpet"
           }
          ],
          "choropleth": [
           {
            "colorbar": {
             "outlinewidth": 0,
             "ticks": ""
            },
            "type": "choropleth"
           }
          ],
          "contour": [
           {
            "colorbar": {
             "outlinewidth": 0,
             "ticks": ""
            },
            "colorscale": [
             [
              0,
              "#0d0887"
             ],
             [
              0.1111111111111111,
              "#46039f"
             ],
             [
              0.2222222222222222,
              "#7201a8"
             ],
             [
              0.3333333333333333,
              "#9c179e"
             ],
             [
              0.4444444444444444,
              "#bd3786"
             ],
             [
              0.5555555555555556,
              "#d8576b"
             ],
             [
              0.6666666666666666,
              "#ed7953"
             ],
             [
              0.7777777777777778,
              "#fb9f3a"
             ],
             [
              0.8888888888888888,
              "#fdca26"
             ],
             [
              1,
              "#f0f921"
             ]
            ],
            "type": "contour"
           }
          ],
          "contourcarpet": [
           {
            "colorbar": {
             "outlinewidth": 0,
             "ticks": ""
            },
            "type": "contourcarpet"
           }
          ],
          "heatmap": [
           {
            "colorbar": {
             "outlinewidth": 0,
             "ticks": ""
            },
            "colorscale": [
             [
              0,
              "#0d0887"
             ],
             [
              0.1111111111111111,
              "#46039f"
             ],
             [
              0.2222222222222222,
              "#7201a8"
             ],
             [
              0.3333333333333333,
              "#9c179e"
             ],
             [
              0.4444444444444444,
              "#bd3786"
             ],
             [
              0.5555555555555556,
              "#d8576b"
             ],
             [
              0.6666666666666666,
              "#ed7953"
             ],
             [
              0.7777777777777778,
              "#fb9f3a"
             ],
             [
              0.8888888888888888,
              "#fdca26"
             ],
             [
              1,
              "#f0f921"
             ]
            ],
            "type": "heatmap"
           }
          ],
          "heatmapgl": [
           {
            "colorbar": {
             "outlinewidth": 0,
             "ticks": ""
            },
            "colorscale": [
             [
              0,
              "#0d0887"
             ],
             [
              0.1111111111111111,
              "#46039f"
             ],
             [
              0.2222222222222222,
              "#7201a8"
             ],
             [
              0.3333333333333333,
              "#9c179e"
             ],
             [
              0.4444444444444444,
              "#bd3786"
             ],
             [
              0.5555555555555556,
              "#d8576b"
             ],
             [
              0.6666666666666666,
              "#ed7953"
             ],
             [
              0.7777777777777778,
              "#fb9f3a"
             ],
             [
              0.8888888888888888,
              "#fdca26"
             ],
             [
              1,
              "#f0f921"
             ]
            ],
            "type": "heatmapgl"
           }
          ],
          "histogram": [
           {
            "marker": {
             "pattern": {
              "fillmode": "overlay",
              "size": 10,
              "solidity": 0.2
             }
            },
            "type": "histogram"
           }
          ],
          "histogram2d": [
           {
            "colorbar": {
             "outlinewidth": 0,
             "ticks": ""
            },
            "colorscale": [
             [
              0,
              "#0d0887"
             ],
             [
              0.1111111111111111,
              "#46039f"
             ],
             [
              0.2222222222222222,
              "#7201a8"
             ],
             [
              0.3333333333333333,
              "#9c179e"
             ],
             [
              0.4444444444444444,
              "#bd3786"
             ],
             [
              0.5555555555555556,
              "#d8576b"
             ],
             [
              0.6666666666666666,
              "#ed7953"
             ],
             [
              0.7777777777777778,
              "#fb9f3a"
             ],
             [
              0.8888888888888888,
              "#fdca26"
             ],
             [
              1,
              "#f0f921"
             ]
            ],
            "type": "histogram2d"
           }
          ],
          "histogram2dcontour": [
           {
            "colorbar": {
             "outlinewidth": 0,
             "ticks": ""
            },
            "colorscale": [
             [
              0,
              "#0d0887"
             ],
             [
              0.1111111111111111,
              "#46039f"
             ],
             [
              0.2222222222222222,
              "#7201a8"
             ],
             [
              0.3333333333333333,
              "#9c179e"
             ],
             [
              0.4444444444444444,
              "#bd3786"
             ],
             [
              0.5555555555555556,
              "#d8576b"
             ],
             [
              0.6666666666666666,
              "#ed7953"
             ],
             [
              0.7777777777777778,
              "#fb9f3a"
             ],
             [
              0.8888888888888888,
              "#fdca26"
             ],
             [
              1,
              "#f0f921"
             ]
            ],
            "type": "histogram2dcontour"
           }
          ],
          "mesh3d": [
           {
            "colorbar": {
             "outlinewidth": 0,
             "ticks": ""
            },
            "type": "mesh3d"
           }
          ],
          "parcoords": [
           {
            "line": {
             "colorbar": {
              "outlinewidth": 0,
              "ticks": ""
             }
            },
            "type": "parcoords"
           }
          ],
          "pie": [
           {
            "automargin": true,
            "type": "pie"
           }
          ],
          "scatter": [
           {
            "marker": {
             "colorbar": {
              "outlinewidth": 0,
              "ticks": ""
             }
            },
            "type": "scatter"
           }
          ],
          "scatter3d": [
           {
            "line": {
             "colorbar": {
              "outlinewidth": 0,
              "ticks": ""
             }
            },
            "marker": {
             "colorbar": {
              "outlinewidth": 0,
              "ticks": ""
             }
            },
            "type": "scatter3d"
           }
          ],
          "scattercarpet": [
           {
            "marker": {
             "colorbar": {
              "outlinewidth": 0,
              "ticks": ""
             }
            },
            "type": "scattercarpet"
           }
          ],
          "scattergeo": [
           {
            "marker": {
             "colorbar": {
              "outlinewidth": 0,
              "ticks": ""
             }
            },
            "type": "scattergeo"
           }
          ],
          "scattergl": [
           {
            "marker": {
             "colorbar": {
              "outlinewidth": 0,
              "ticks": ""
             }
            },
            "type": "scattergl"
           }
          ],
          "scattermapbox": [
           {
            "marker": {
             "colorbar": {
              "outlinewidth": 0,
              "ticks": ""
             }
            },
            "type": "scattermapbox"
           }
          ],
          "scatterpolar": [
           {
            "marker": {
             "colorbar": {
              "outlinewidth": 0,
              "ticks": ""
             }
            },
            "type": "scatterpolar"
           }
          ],
          "scatterpolargl": [
           {
            "marker": {
             "colorbar": {
              "outlinewidth": 0,
              "ticks": ""
             }
            },
            "type": "scatterpolargl"
           }
          ],
          "scatterternary": [
           {
            "marker": {
             "colorbar": {
              "outlinewidth": 0,
              "ticks": ""
             }
            },
            "type": "scatterternary"
           }
          ],
          "surface": [
           {
            "colorbar": {
             "outlinewidth": 0,
             "ticks": ""
            },
            "colorscale": [
             [
              0,
              "#0d0887"
             ],
             [
              0.1111111111111111,
              "#46039f"
             ],
             [
              0.2222222222222222,
              "#7201a8"
             ],
             [
              0.3333333333333333,
              "#9c179e"
             ],
             [
              0.4444444444444444,
              "#bd3786"
             ],
             [
              0.5555555555555556,
              "#d8576b"
             ],
             [
              0.6666666666666666,
              "#ed7953"
             ],
             [
              0.7777777777777778,
              "#fb9f3a"
             ],
             [
              0.8888888888888888,
              "#fdca26"
             ],
             [
              1,
              "#f0f921"
             ]
            ],
            "type": "surface"
           }
          ],
          "table": [
           {
            "cells": {
             "fill": {
              "color": "#EBF0F8"
             },
             "line": {
              "color": "white"
             }
            },
            "header": {
             "fill": {
              "color": "#C8D4E3"
             },
             "line": {
              "color": "white"
             }
            },
            "type": "table"
           }
          ]
         },
         "layout": {
          "annotationdefaults": {
           "arrowcolor": "#2a3f5f",
           "arrowhead": 0,
           "arrowwidth": 1
          },
          "autotypenumbers": "strict",
          "coloraxis": {
           "colorbar": {
            "outlinewidth": 0,
            "ticks": ""
           }
          },
          "colorscale": {
           "diverging": [
            [
             0,
             "#8e0152"
            ],
            [
             0.1,
             "#c51b7d"
            ],
            [
             0.2,
             "#de77ae"
            ],
            [
             0.3,
             "#f1b6da"
            ],
            [
             0.4,
             "#fde0ef"
            ],
            [
             0.5,
             "#f7f7f7"
            ],
            [
             0.6,
             "#e6f5d0"
            ],
            [
             0.7,
             "#b8e186"
            ],
            [
             0.8,
             "#7fbc41"
            ],
            [
             0.9,
             "#4d9221"
            ],
            [
             1,
             "#276419"
            ]
           ],
           "sequential": [
            [
             0,
             "#0d0887"
            ],
            [
             0.1111111111111111,
             "#46039f"
            ],
            [
             0.2222222222222222,
             "#7201a8"
            ],
            [
             0.3333333333333333,
             "#9c179e"
            ],
            [
             0.4444444444444444,
             "#bd3786"
            ],
            [
             0.5555555555555556,
             "#d8576b"
            ],
            [
             0.6666666666666666,
             "#ed7953"
            ],
            [
             0.7777777777777778,
             "#fb9f3a"
            ],
            [
             0.8888888888888888,
             "#fdca26"
            ],
            [
             1,
             "#f0f921"
            ]
           ],
           "sequentialminus": [
            [
             0,
             "#0d0887"
            ],
            [
             0.1111111111111111,
             "#46039f"
            ],
            [
             0.2222222222222222,
             "#7201a8"
            ],
            [
             0.3333333333333333,
             "#9c179e"
            ],
            [
             0.4444444444444444,
             "#bd3786"
            ],
            [
             0.5555555555555556,
             "#d8576b"
            ],
            [
             0.6666666666666666,
             "#ed7953"
            ],
            [
             0.7777777777777778,
             "#fb9f3a"
            ],
            [
             0.8888888888888888,
             "#fdca26"
            ],
            [
             1,
             "#f0f921"
            ]
           ]
          },
          "colorway": [
           "#636efa",
           "#EF553B",
           "#00cc96",
           "#ab63fa",
           "#FFA15A",
           "#19d3f3",
           "#FF6692",
           "#B6E880",
           "#FF97FF",
           "#FECB52"
          ],
          "font": {
           "color": "#2a3f5f"
          },
          "geo": {
           "bgcolor": "white",
           "lakecolor": "white",
           "landcolor": "#E5ECF6",
           "showlakes": true,
           "showland": true,
           "subunitcolor": "white"
          },
          "hoverlabel": {
           "align": "left"
          },
          "hovermode": "closest",
          "mapbox": {
           "style": "light"
          },
          "paper_bgcolor": "white",
          "plot_bgcolor": "#E5ECF6",
          "polar": {
           "angularaxis": {
            "gridcolor": "white",
            "linecolor": "white",
            "ticks": ""
           },
           "bgcolor": "#E5ECF6",
           "radialaxis": {
            "gridcolor": "white",
            "linecolor": "white",
            "ticks": ""
           }
          },
          "scene": {
           "xaxis": {
            "backgroundcolor": "#E5ECF6",
            "gridcolor": "white",
            "gridwidth": 2,
            "linecolor": "white",
            "showbackground": true,
            "ticks": "",
            "zerolinecolor": "white"
           },
           "yaxis": {
            "backgroundcolor": "#E5ECF6",
            "gridcolor": "white",
            "gridwidth": 2,
            "linecolor": "white",
            "showbackground": true,
            "ticks": "",
            "zerolinecolor": "white"
           },
           "zaxis": {
            "backgroundcolor": "#E5ECF6",
            "gridcolor": "white",
            "gridwidth": 2,
            "linecolor": "white",
            "showbackground": true,
            "ticks": "",
            "zerolinecolor": "white"
           }
          },
          "shapedefaults": {
           "line": {
            "color": "#2a3f5f"
           }
          },
          "ternary": {
           "aaxis": {
            "gridcolor": "white",
            "linecolor": "white",
            "ticks": ""
           },
           "baxis": {
            "gridcolor": "white",
            "linecolor": "white",
            "ticks": ""
           },
           "bgcolor": "#E5ECF6",
           "caxis": {
            "gridcolor": "white",
            "linecolor": "white",
            "ticks": ""
           }
          },
          "title": {
           "x": 0.05
          },
          "xaxis": {
           "automargin": true,
           "gridcolor": "white",
           "linecolor": "white",
           "ticks": "",
           "title": {
            "standoff": 15
           },
           "zerolinecolor": "white",
           "zerolinewidth": 2
          },
          "yaxis": {
           "automargin": true,
           "gridcolor": "white",
           "linecolor": "white",
           "ticks": "",
           "title": {
            "standoff": 15
           },
           "zerolinecolor": "white",
           "zerolinewidth": 2
          }
         }
        },
        "xaxis": {
         "title": {
          "text": "Distância"
         }
        },
        "yaxis": {
         "title": {
          "text": "Tempo"
         }
        }
       }
      }
     },
     "metadata": {},
     "output_type": "display_data"
    },
    {
     "name": "stdout",
     "output_type": "stream",
     "text": [
      "0.868764922010842\n"
     ]
    }
   ],
   "source": [
    "data_x = data['Distância (X)']\n",
    "data_y = data['Tempo (Y)']\n",
    "\n",
    "figura = go.Figure()\n",
    "\n",
    "figura.add_trace(go.Scatter(\n",
    "    x = data_x,\n",
    "    y = data_y,\n",
    "    mode = 'markers',\n",
    "    name = 'Y'\n",
    "))\n",
    "\n",
    "figura.add_trace(go.Scatter(\n",
    "                            x = data_x, \n",
    "                            y = rlm.matriz['yhat'],\n",
    "                            mode='lines',\n",
    "                            name = 'Yhat'\n",
    "                            )\n",
    "                )\n",
    "\n",
    "media = [rlm.matriz['yhat'].mean() for c in range(rlm.count)]\n",
    "\n",
    "figura.add_trace(\n",
    "    go.Line(\n",
    "        x = data_x,\n",
    "        y = media,\n",
    "        name = 'Média'\n",
    "    )\n",
    ")\n",
    "\n",
    "xVals = figura.data[0]['x']\n",
    "errors = {}\n",
    "\n",
    "for d in figura.data:\n",
    "    errors[d['mode']] = d['y']\n",
    "\n",
    "shapes = []\n",
    "\n",
    "for i, x in enumerate(figura.data[0]['x']):\n",
    "    shapes.append(go.layout.Shape(type = 'line',\n",
    "                                    x0 = x,\n",
    "                                    y0 = errors['markers'][i],\n",
    "                                    x1 = x,\n",
    "                                    y1 = errors['lines'][i],\n",
    "                                    line = dict(color = 'black', width = 1),\n",
    "                                    opacity = 1.0,\n",
    "                                    layer = 'above'\n",
    "\n",
    "                                )\n",
    "                            )\n",
    "\n",
    "\n",
    "for i, x in enumerate(figura.data[0]['x']):\n",
    "    shapes.append(go.layout.Shape(type = 'line',\n",
    "                                x0 = x,\n",
    "                                y0 = errors['markers'][i],\n",
    "                                x1 = x,\n",
    "                                y1 = errors[None][i],\n",
    "                                line = dict(color = 'yellow', width = 1),\n",
    "                                opacity = 0.5,\n",
    "                                layer = 'above'\n",
    "                                \n",
    "    ))\n",
    "\n",
    "\n",
    "figura.update_layout(shapes = shapes)\n",
    "figura.update_yaxes(title = 'Tempo')\n",
    "figura.update_xaxes(title = 'Distância')\n",
    "figura.show()\n",
    "\n",
    "print(rlm.rSquared())"
   ]
  }
 ],
 "metadata": {
  "interpreter": {
   "hash": "bfb68b2225589cc316d30e88ba24c3eabd5288851e9550411c910978f96ab4d6"
  },
  "kernelspec": {
   "display_name": "Python 3.10.2 64-bit",
   "language": "python",
   "name": "python3"
  },
  "language_info": {
   "codemirror_mode": {
    "name": "ipython",
    "version": 3
   },
   "file_extension": ".py",
   "mimetype": "text/x-python",
   "name": "python",
   "nbconvert_exporter": "python",
   "pygments_lexer": "ipython3",
   "version": "3.10.2"
  },
  "orig_nbformat": 4
 },
 "nbformat": 4,
 "nbformat_minor": 2
}
