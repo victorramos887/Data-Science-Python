{
 "cells": [
  {
   "cell_type": "code",
   "execution_count": 66,
   "metadata": {},
   "outputs": [],
   "source": [
    "import pandas as pd\n",
    "import sklearn as sk\n",
    "import seaborn\n",
    "from math import *\n"
   ]
  },
  {
   "cell_type": "code",
   "execution_count": 6,
   "metadata": {},
   "outputs": [
    {
     "data": {
      "text/html": [
       "<div>\n",
       "<style scoped>\n",
       "    .dataframe tbody tr th:only-of-type {\n",
       "        vertical-align: middle;\n",
       "    }\n",
       "\n",
       "    .dataframe tbody tr th {\n",
       "        vertical-align: top;\n",
       "    }\n",
       "\n",
       "    .dataframe thead th {\n",
       "        text-align: right;\n",
       "    }\n",
       "</style>\n",
       "<table border=\"1\" class=\"dataframe\">\n",
       "  <thead>\n",
       "    <tr style=\"text-align: right;\">\n",
       "      <th></th>\n",
       "      <th>Tempo (Y)</th>\n",
       "      <th>Distância (X)</th>\n",
       "    </tr>\n",
       "  </thead>\n",
       "  <tbody>\n",
       "    <tr>\n",
       "      <th>0</th>\n",
       "      <td>15</td>\n",
       "      <td>8</td>\n",
       "    </tr>\n",
       "    <tr>\n",
       "      <th>1</th>\n",
       "      <td>20</td>\n",
       "      <td>6</td>\n",
       "    </tr>\n",
       "    <tr>\n",
       "      <th>2</th>\n",
       "      <td>20</td>\n",
       "      <td>15</td>\n",
       "    </tr>\n",
       "    <tr>\n",
       "      <th>3</th>\n",
       "      <td>40</td>\n",
       "      <td>20</td>\n",
       "    </tr>\n",
       "    <tr>\n",
       "      <th>4</th>\n",
       "      <td>50</td>\n",
       "      <td>25</td>\n",
       "    </tr>\n",
       "    <tr>\n",
       "      <th>5</th>\n",
       "      <td>25</td>\n",
       "      <td>11</td>\n",
       "    </tr>\n",
       "    <tr>\n",
       "      <th>6</th>\n",
       "      <td>10</td>\n",
       "      <td>5</td>\n",
       "    </tr>\n",
       "    <tr>\n",
       "      <th>7</th>\n",
       "      <td>55</td>\n",
       "      <td>32</td>\n",
       "    </tr>\n",
       "    <tr>\n",
       "      <th>8</th>\n",
       "      <td>35</td>\n",
       "      <td>28</td>\n",
       "    </tr>\n",
       "    <tr>\n",
       "      <th>9</th>\n",
       "      <td>30</td>\n",
       "      <td>20</td>\n",
       "    </tr>\n",
       "  </tbody>\n",
       "</table>\n",
       "</div>"
      ],
      "text/plain": [
       "   Tempo (Y)  Distância (X)\n",
       "0         15              8\n",
       "1         20              6\n",
       "2         20             15\n",
       "3         40             20\n",
       "4         50             25\n",
       "5         25             11\n",
       "6         10              5\n",
       "7         55             32\n",
       "8         35             28\n",
       "9         30             20"
      ]
     },
     "execution_count": 6,
     "metadata": {},
     "output_type": "execute_result"
    }
   ],
   "source": [
    "#Carregar arquivo de tempo x distância\n",
    "data = pd.read_excel(r'.\\xls\\tempodist.xls', sheet_name='Plan2')\n",
    "data"
   ]
  },
  {
   "cell_type": "code",
   "execution_count": 21,
   "metadata": {},
   "outputs": [
    {
     "data": {
      "text/plain": [
       "<bound method IndexOpsMixin.tolist of 0     8\n",
       "1     6\n",
       "2    15\n",
       "3    20\n",
       "4    25\n",
       "5    11\n",
       "6     5\n",
       "7    32\n",
       "8    28\n",
       "9    20\n",
       "Name: Distância (X), dtype: int64>"
      ]
     },
     "execution_count": 21,
     "metadata": {},
     "output_type": "execute_result"
    }
   ],
   "source": [
    "#Estatística univariadas\n",
    "data[['Tempo (Y)', 'Distância (X)']].describe()\n"
   ]
  },
  {
   "cell_type": "markdown",
   "metadata": {},
   "source": [
    "Criando um objecto para calcular a regressão linear\n",
    "\n",
    "Equação da Reta: $y = A + Bx$\n",
    "\n",
    "coeficiênte angular (B): $$B = \\frac{n\\sum x_{i}y_{i} - \\sum x_{i} \\sum y_{i}}{n \\sum x_{i}^{2} - (\\sum x_{i}^{2})}$$\n",
    "\n",
    "coeficiênte linear (A): $$A = \\frac{\\sum y - B . \\sum x}{n}$$\n",
    "\n",
    "coeficiênte de correlação:\n",
    "\n",
    "$$ r_{x,y} = \\frac{n \\sum x_{i} y_{i} - \\sum x_{i} \\sum y_{i}}{\\sqrt{n \\sum x_{i}^{2} - (\\sum x_{i})^{2}} \\sqrt{n \\sum y_{i}^{2} - (\\sum y_{i})^{2}}}$$\n"
   ]
  },
  {
   "cell_type": "code",
   "execution_count": 71,
   "metadata": {},
   "outputs": [
    {
     "ename": "TypeError",
     "evalue": "cannot convert the series to <class 'float'>",
     "output_type": "error",
     "traceback": [
      "\u001b[1;31m---------------------------------------------------------------------------\u001b[0m",
      "\u001b[1;31mTypeError\u001b[0m                                 Traceback (most recent call last)",
      "\u001b[1;32mc:\\Users\\VICTOR\\Documents\\GitHub\\Data-Science-Python\\regressao_linear_m.ipynb Cell 5'\u001b[0m in \u001b[0;36m<cell line: 40>\u001b[1;34m()\u001b[0m\n\u001b[0;32m     <a href='vscode-notebook-cell:/c%3A/Users/VICTOR/Documents/GitHub/Data-Science-Python/regressao_linear_m.ipynb#ch0000005?line=33'>34</a>\u001b[0m         \u001b[39mreturn\u001b[39;00m \u001b[39mself\u001b[39m\u001b[39m.\u001b[39mrxy\n\u001b[0;32m     <a href='vscode-notebook-cell:/c%3A/Users/VICTOR/Documents/GitHub/Data-Science-Python/regressao_linear_m.ipynb#ch0000005?line=36'>37</a>\u001b[0m rlm \u001b[39m=\u001b[39m RegressaoLinear(data[\u001b[39m'\u001b[39m\u001b[39mDistância (X)\u001b[39m\u001b[39m'\u001b[39m], data[\u001b[39m'\u001b[39m\u001b[39mTempo (Y)\u001b[39m\u001b[39m'\u001b[39m])\n\u001b[1;32m---> <a href='vscode-notebook-cell:/c%3A/Users/VICTOR/Documents/GitHub/Data-Science-Python/regressao_linear_m.ipynb#ch0000005?line=39'>40</a>\u001b[0m \u001b[39mprint\u001b[39m(rlm\u001b[39m.\u001b[39;49mcoefCorr())\n",
      "\u001b[1;32mc:\\Users\\VICTOR\\Documents\\GitHub\\Data-Science-Python\\regressao_linear_m.ipynb Cell 5'\u001b[0m in \u001b[0;36mRegressaoLinear.coefCorr\u001b[1;34m(self)\u001b[0m\n\u001b[0;32m     <a href='vscode-notebook-cell:/c%3A/Users/VICTOR/Documents/GitHub/Data-Science-Python/regressao_linear_m.ipynb#ch0000005?line=28'>29</a>\u001b[0m \u001b[39mself\u001b[39m\u001b[39m.\u001b[39mmatriz[\u001b[39m'\u001b[39m\u001b[39my²\u001b[39m\u001b[39m'\u001b[39m] \u001b[39m=\u001b[39m \u001b[39mself\u001b[39m\u001b[39m.\u001b[39mmatriz[\u001b[39m'\u001b[39m\u001b[39my²\u001b[39m\u001b[39m'\u001b[39m]\u001b[39m.\u001b[39mastype(\u001b[39m'\u001b[39m\u001b[39mfloat\u001b[39m\u001b[39m'\u001b[39m)\n\u001b[0;32m     <a href='vscode-notebook-cell:/c%3A/Users/VICTOR/Documents/GitHub/Data-Science-Python/regressao_linear_m.ipynb#ch0000005?line=29'>30</a>\u001b[0m \u001b[39mself\u001b[39m\u001b[39m.\u001b[39mmatriz[\u001b[39m'\u001b[39m\u001b[39mxy\u001b[39m\u001b[39m'\u001b[39m] \u001b[39m=\u001b[39m \u001b[39mself\u001b[39m\u001b[39m.\u001b[39mmatriz[\u001b[39m'\u001b[39m\u001b[39mxy\u001b[39m\u001b[39m'\u001b[39m]\u001b[39m.\u001b[39mastype(\u001b[39m'\u001b[39m\u001b[39mfloat\u001b[39m\u001b[39m'\u001b[39m)\n\u001b[1;32m---> <a href='vscode-notebook-cell:/c%3A/Users/VICTOR/Documents/GitHub/Data-Science-Python/regressao_linear_m.ipynb#ch0000005?line=31'>32</a>\u001b[0m \u001b[39mself\u001b[39m\u001b[39m.\u001b[39mrxy \u001b[39m=\u001b[39m (\u001b[39mself\u001b[39m\u001b[39m.\u001b[39mcount \u001b[39m*\u001b[39m \u001b[39mself\u001b[39m\u001b[39m.\u001b[39mmatriz[\u001b[39m'\u001b[39m\u001b[39mxy\u001b[39m\u001b[39m'\u001b[39m]\u001b[39m.\u001b[39msum() \u001b[39m-\u001b[39m \u001b[39mself\u001b[39m\u001b[39m.\u001b[39mmatriz[\u001b[39m'\u001b[39m\u001b[39mx\u001b[39m\u001b[39m'\u001b[39m]\u001b[39m.\u001b[39msum() \u001b[39m*\u001b[39m \u001b[39mself\u001b[39m\u001b[39m.\u001b[39mmatriz[\u001b[39m'\u001b[39m\u001b[39my\u001b[39m\u001b[39m'\u001b[39m]\u001b[39m.\u001b[39msum())\u001b[39m/\u001b[39m(sqrt(\u001b[39mself\u001b[39;49m\u001b[39m.\u001b[39;49mcount \u001b[39m*\u001b[39;49m \u001b[39mself\u001b[39;49m\u001b[39m.\u001b[39;49mmatriz[\u001b[39m'\u001b[39;49m\u001b[39mx²\u001b[39;49m\u001b[39m'\u001b[39;49m] \u001b[39m-\u001b[39;49m (\u001b[39mself\u001b[39;49m\u001b[39m.\u001b[39;49mmatriz[\u001b[39m'\u001b[39;49m\u001b[39mx\u001b[39;49m\u001b[39m'\u001b[39;49m])\u001b[39m*\u001b[39;49m\u001b[39m*\u001b[39;49m\u001b[39m2\u001b[39;49m) \u001b[39m*\u001b[39m sqrt(\u001b[39mself\u001b[39m\u001b[39m.\u001b[39mcount \u001b[39m*\u001b[39m \u001b[39mself\u001b[39m\u001b[39m.\u001b[39mmatriz[\u001b[39m'\u001b[39m\u001b[39my²\u001b[39m\u001b[39m'\u001b[39m] \u001b[39m-\u001b[39m (\u001b[39mself\u001b[39m\u001b[39m.\u001b[39mmatriz[\u001b[39m'\u001b[39m\u001b[39my\u001b[39m\u001b[39m'\u001b[39m]) \u001b[39m*\u001b[39m\u001b[39m*\u001b[39m \u001b[39m2\u001b[39m))\n\u001b[0;32m     <a href='vscode-notebook-cell:/c%3A/Users/VICTOR/Documents/GitHub/Data-Science-Python/regressao_linear_m.ipynb#ch0000005?line=33'>34</a>\u001b[0m \u001b[39mreturn\u001b[39;00m \u001b[39mself\u001b[39m\u001b[39m.\u001b[39mrxy\n",
      "File \u001b[1;32m~\\AppData\\Local\\Programs\\Python\\Python310\\lib\\site-packages\\pandas\\core\\series.py:191\u001b[0m, in \u001b[0;36m_coerce_method.<locals>.wrapper\u001b[1;34m(self)\u001b[0m\n\u001b[0;32m    <a href='file:///c%3A/Users/VICTOR/AppData/Local/Programs/Python/Python310/lib/site-packages/pandas/core/series.py?line=188'>189</a>\u001b[0m \u001b[39mif\u001b[39;00m \u001b[39mlen\u001b[39m(\u001b[39mself\u001b[39m) \u001b[39m==\u001b[39m \u001b[39m1\u001b[39m:\n\u001b[0;32m    <a href='file:///c%3A/Users/VICTOR/AppData/Local/Programs/Python/Python310/lib/site-packages/pandas/core/series.py?line=189'>190</a>\u001b[0m     \u001b[39mreturn\u001b[39;00m converter(\u001b[39mself\u001b[39m\u001b[39m.\u001b[39miloc[\u001b[39m0\u001b[39m])\n\u001b[1;32m--> <a href='file:///c%3A/Users/VICTOR/AppData/Local/Programs/Python/Python310/lib/site-packages/pandas/core/series.py?line=190'>191</a>\u001b[0m \u001b[39mraise\u001b[39;00m \u001b[39mTypeError\u001b[39;00m(\u001b[39mf\u001b[39m\u001b[39m\"\u001b[39m\u001b[39mcannot convert the series to \u001b[39m\u001b[39m{\u001b[39;00mconverter\u001b[39m}\u001b[39;00m\u001b[39m\"\u001b[39m)\n",
      "\u001b[1;31mTypeError\u001b[0m: cannot convert the series to <class 'float'>"
     ]
    }
   ],
   "source": [
    "class RegressaoLinear():\n",
    "    def __init__(self, x, y):\n",
    "        self.x = x\n",
    "        self.y = y\n",
    "        self.count = x.count()\n",
    "\n",
    "        self.matriz = pd.DataFrame()\n",
    "        self.matriz['x'] = self.x\n",
    "        self.matriz['y'] = self.y\n",
    "        self.matriz['x²'] = self.x ** 2\n",
    "        self.matriz['y²'] = self.y ** 2\n",
    "        self.matriz['xy'] = self.y * self.x\n",
    "    \n",
    "    def coefAngular(self):\n",
    "        \n",
    "        self.coefB = (self.count * self.matriz['xy'].sum() - self.matriz['x'].sum() * self.matriz['y'].sum())/ (self.count * self.matriz['x²'].sum()  - (self.matriz['x'].sum())**2)\n",
    "\n",
    "        return self.coefB\n",
    "    \n",
    "    def coefLinear(self):\n",
    "        self.coefA = (self.matriz['y'].sum() - self.coefA * self.matriz['x'].sum())/ self.count\n",
    "        return self.coefA\n",
    "    \n",
    "    def coefCorr(self):\n",
    "\n",
    "        self.matriz['x'] = self.matriz['x'].astype('float')\n",
    "        self.matriz['y'] = self.matriz['y'].astype('float')\n",
    "        self.matriz['x²'] = self.matriz['x²'].astype('float')\n",
    "        self.matriz['y²'] = self.matriz['y²'].astype('float')\n",
    "        self.matriz['xy'] = self.matriz['xy'].astype('float')\n",
    "\n",
    "        self.rxy = (self.count * self.matriz['xy'].sum() - self.matriz['x'].sum() * self.matriz['y'].sum())/(sqrt(self.count * self.matriz['x²'] - (self.matriz['x'])**2) * sqrt(self.count * self.matriz['y²'] - (self.matriz['y']) ** 2))\n",
    "\n",
    "        return self.rxy\n",
    "\n",
    "\n",
    "rlm = RegressaoLinear(data['Distância (X)'], data['Tempo (Y)'])\n",
    "\n",
    "\n",
    "print(rlm.coefCorr())\n",
    "\n",
    "       "
   ]
  }
 ],
 "metadata": {
  "interpreter": {
   "hash": "bfb68b2225589cc316d30e88ba24c3eabd5288851e9550411c910978f96ab4d6"
  },
  "kernelspec": {
   "display_name": "Python 3.10.2 64-bit",
   "language": "python",
   "name": "python3"
  },
  "language_info": {
   "codemirror_mode": {
    "name": "ipython",
    "version": 3
   },
   "file_extension": ".py",
   "mimetype": "text/x-python",
   "name": "python",
   "nbconvert_exporter": "python",
   "pygments_lexer": "ipython3",
   "version": "3.10.2"
  },
  "orig_nbformat": 4
 },
 "nbformat": 4,
 "nbformat_minor": 2
}
