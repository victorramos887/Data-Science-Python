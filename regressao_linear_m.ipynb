{
 "cells": [
  {
   "cell_type": "code",
   "execution_count": 2,
   "metadata": {},
   "outputs": [],
   "source": [
    "import pandas as pd\n",
    "import matplotlib.pyplot as plt\n",
    "from math import *\n",
    "import random\n",
    "import numpy as np"
   ]
  },
  {
   "cell_type": "code",
   "execution_count": 3,
   "metadata": {},
   "outputs": [
    {
     "data": {
      "text/html": [
       "<div>\n",
       "<style scoped>\n",
       "    .dataframe tbody tr th:only-of-type {\n",
       "        vertical-align: middle;\n",
       "    }\n",
       "\n",
       "    .dataframe tbody tr th {\n",
       "        vertical-align: top;\n",
       "    }\n",
       "\n",
       "    .dataframe thead th {\n",
       "        text-align: right;\n",
       "    }\n",
       "</style>\n",
       "<table border=\"1\" class=\"dataframe\">\n",
       "  <thead>\n",
       "    <tr style=\"text-align: right;\">\n",
       "      <th></th>\n",
       "      <th>Tempo (Y)</th>\n",
       "      <th>Distância (X)</th>\n",
       "    </tr>\n",
       "  </thead>\n",
       "  <tbody>\n",
       "    <tr>\n",
       "      <th>0</th>\n",
       "      <td>15</td>\n",
       "      <td>8</td>\n",
       "    </tr>\n",
       "    <tr>\n",
       "      <th>1</th>\n",
       "      <td>20</td>\n",
       "      <td>6</td>\n",
       "    </tr>\n",
       "    <tr>\n",
       "      <th>2</th>\n",
       "      <td>20</td>\n",
       "      <td>15</td>\n",
       "    </tr>\n",
       "    <tr>\n",
       "      <th>3</th>\n",
       "      <td>40</td>\n",
       "      <td>20</td>\n",
       "    </tr>\n",
       "    <tr>\n",
       "      <th>4</th>\n",
       "      <td>50</td>\n",
       "      <td>25</td>\n",
       "    </tr>\n",
       "    <tr>\n",
       "      <th>5</th>\n",
       "      <td>25</td>\n",
       "      <td>11</td>\n",
       "    </tr>\n",
       "    <tr>\n",
       "      <th>6</th>\n",
       "      <td>10</td>\n",
       "      <td>5</td>\n",
       "    </tr>\n",
       "    <tr>\n",
       "      <th>7</th>\n",
       "      <td>55</td>\n",
       "      <td>32</td>\n",
       "    </tr>\n",
       "    <tr>\n",
       "      <th>8</th>\n",
       "      <td>35</td>\n",
       "      <td>28</td>\n",
       "    </tr>\n",
       "    <tr>\n",
       "      <th>9</th>\n",
       "      <td>30</td>\n",
       "      <td>20</td>\n",
       "    </tr>\n",
       "  </tbody>\n",
       "</table>\n",
       "</div>"
      ],
      "text/plain": [
       "   Tempo (Y)  Distância (X)\n",
       "0         15              8\n",
       "1         20              6\n",
       "2         20             15\n",
       "3         40             20\n",
       "4         50             25\n",
       "5         25             11\n",
       "6         10              5\n",
       "7         55             32\n",
       "8         35             28\n",
       "9         30             20"
      ]
     },
     "execution_count": 3,
     "metadata": {},
     "output_type": "execute_result"
    }
   ],
   "source": [
    "#Carregar arquivo de tempo x distância\n",
    "data = pd.read_excel(r'.\\xls\\tempodist.xls', sheet_name='Plan2')\n",
    "data"
   ]
  },
  {
   "cell_type": "code",
   "execution_count": 4,
   "metadata": {},
   "outputs": [
    {
     "data": {
      "text/html": [
       "<div>\n",
       "<style scoped>\n",
       "    .dataframe tbody tr th:only-of-type {\n",
       "        vertical-align: middle;\n",
       "    }\n",
       "\n",
       "    .dataframe tbody tr th {\n",
       "        vertical-align: top;\n",
       "    }\n",
       "\n",
       "    .dataframe thead th {\n",
       "        text-align: right;\n",
       "    }\n",
       "</style>\n",
       "<table border=\"1\" class=\"dataframe\">\n",
       "  <thead>\n",
       "    <tr style=\"text-align: right;\">\n",
       "      <th></th>\n",
       "      <th>Tempo (Y)</th>\n",
       "      <th>Distância (X)</th>\n",
       "    </tr>\n",
       "  </thead>\n",
       "  <tbody>\n",
       "    <tr>\n",
       "      <th>count</th>\n",
       "      <td>10.00000</td>\n",
       "      <td>10.000000</td>\n",
       "    </tr>\n",
       "    <tr>\n",
       "      <th>mean</th>\n",
       "      <td>30.00000</td>\n",
       "      <td>17.000000</td>\n",
       "    </tr>\n",
       "    <tr>\n",
       "      <th>std</th>\n",
       "      <td>14.90712</td>\n",
       "      <td>9.510228</td>\n",
       "    </tr>\n",
       "    <tr>\n",
       "      <th>min</th>\n",
       "      <td>10.00000</td>\n",
       "      <td>5.000000</td>\n",
       "    </tr>\n",
       "    <tr>\n",
       "      <th>25%</th>\n",
       "      <td>20.00000</td>\n",
       "      <td>8.750000</td>\n",
       "    </tr>\n",
       "    <tr>\n",
       "      <th>50%</th>\n",
       "      <td>27.50000</td>\n",
       "      <td>17.500000</td>\n",
       "    </tr>\n",
       "    <tr>\n",
       "      <th>75%</th>\n",
       "      <td>38.75000</td>\n",
       "      <td>23.750000</td>\n",
       "    </tr>\n",
       "    <tr>\n",
       "      <th>max</th>\n",
       "      <td>55.00000</td>\n",
       "      <td>32.000000</td>\n",
       "    </tr>\n",
       "  </tbody>\n",
       "</table>\n",
       "</div>"
      ],
      "text/plain": [
       "       Tempo (Y)  Distância (X)\n",
       "count   10.00000      10.000000\n",
       "mean    30.00000      17.000000\n",
       "std     14.90712       9.510228\n",
       "min     10.00000       5.000000\n",
       "25%     20.00000       8.750000\n",
       "50%     27.50000      17.500000\n",
       "75%     38.75000      23.750000\n",
       "max     55.00000      32.000000"
      ]
     },
     "execution_count": 4,
     "metadata": {},
     "output_type": "execute_result"
    }
   ],
   "source": [
    "#Estatística univariadas\n",
    "data[['Tempo (Y)', 'Distância (X)']].describe()\n"
   ]
  },
  {
   "cell_type": "markdown",
   "metadata": {},
   "source": [
    "Criando um objecto para calcular a regressão linear\n",
    "\n",
    "Equação da Reta: $y = A + Bx$\n",
    "\n",
    "coeficiênte angular (B): $$B = \\frac{n\\sum x_{i}y_{i} - \\sum x_{i} \\sum y_{i}}{n \\sum x_{i}^{2} - (\\sum x_{i}^{2})}$$\n",
    "\n",
    "coeficiênte linear (A): $$A = \\frac{\\sum y - B . \\sum x}{n}$$\n",
    "\n",
    "coeficiênte de correlação:\n",
    "\n",
    "$$ r_{x,y} = \\frac{n \\sum x_{i} y_{i} - \\sum x_{i} \\sum y_{i}}{\\sqrt{n \\sum x_{i}^{2} - (\\sum x_{i})^{2}} \\sqrt{n \\sum y_{i}^{2} - (\\sum y_{i})^{2}}}$$\n"
   ]
  },
  {
   "cell_type": "code",
   "execution_count": 12,
   "metadata": {},
   "outputs": [
    {
     "name": "stdout",
     "output_type": "stream",
     "text": [
      "0    635.857560\n",
      "1    311.951972\n",
      "2    850.037664\n",
      "3    241.508400\n",
      "4    142.221740\n",
      "5    362.799534\n",
      "6    696.175356\n",
      "7    251.693937\n",
      "8    945.978086\n",
      "9    652.319211\n",
      "Name: erro², dtype: float64\n",
      "    x   y    x²    y²    xy       yhat       erro       erro²  yhat_ajustado\n",
      "0   8  15    64   225   120  40.216216 -25.216216  635.857560  -4.615267e+12\n",
      "1   6  20    36   400   120  37.662162 -17.662162  311.951972  -6.054618e+12\n",
      "2  15  20   225   400   300  49.155405 -29.155405  850.037664   6.562926e+11\n",
      "3  20  40   400  1600   800  55.540541 -15.540541  241.508400   1.234777e+13\n",
      "4  25  50   625  2500  1250  61.925676 -11.925676  142.221740   3.403166e+12\n",
      "5  11  25   121   625   275  44.047297 -19.047297  362.799534  -1.292937e+13\n",
      "6   5  10    25   100    50  36.385135 -26.385135  696.175356  -5.797304e+12\n",
      "7  32  55  1024  3025  1760  70.864865 -15.864865  251.693937   7.588750e+12\n",
      "8  28  35   784  1225   980  65.756757 -30.756757  945.978086   5.660406e+12\n",
      "9  20  30   400   900   600  55.540541 -25.540541  652.319211   1.324798e+12\n"
     ]
    }
   ],
   "source": []
  },
  {
   "cell_type": "code",
   "execution_count": 82,
   "metadata": {},
   "outputs": [
    {
     "data": {
      "text/plain": [
       "[<matplotlib.lines.Line2D at 0x1ee935c9f10>]"
      ]
     },
     "execution_count": 82,
     "metadata": {},
     "output_type": "execute_result"
    },
    {
     "data": {
      "image/png": "[encoded data removed]",
      "text/plain": [
       "<Figure size 432x288 with 1 Axes>"
      ]
     },
     "metadata": {},
     "output_type": "display_data"
    }
   ],
   "source": [
    "plt.scatter(x = rlm.matriz['x'], y = rlm.matriz['y'])\n",
    "plt.plot(rlm.matriz['x'], rlm.matriz['yhat'], color = 'red')"
   ]
  },
  {
   "cell_type": "markdown",
   "metadata": {},
   "source": [
    "# MÉTODO DOS MÍNIMOS QUADRADOS\n",
    "\n",
    "**Erro:**\n",
    "    $$erro_{i} = \\sum_{i = 1}^{n}y_{i} - \\hat{y} $$\n",
    "\n",
    "Está somatória deve ser igual a Zero\n",
    "    \n",
    "**Erro Qudrado:**\n",
    "\n",
    "$$erro = y_{i} - \\hat{y}$$\n",
    "\n",
    "$$\\sum\\limits _{i = 1}^{n} erro^{2}$$\n",
    "\n",
    "\n",
    "\n",
    "Coeficiente Linear quadratico:\n",
    "$$a = \\overline{y} - b\\overline{x}$$\n",
    "\n",
    "\n",
    "Coeficiente Angular quadratico:\n",
    "\n",
    "$$b = \\frac{\\sum\\limits _{i = 1} ^{n}(x_{i} - \\overline{x})(y_{i} - \\overline{y})}{\\sum\\limits_{i = 1}^{n} (x_{i} - \\overline{x})^{2}}$$\n",
    "\n"
   ]
  },
  {
   "cell_type": "code",
   "execution_count": 19,
   "metadata": {},
   "outputs": [
    {
     "data": {
      "text/plain": [
       "30.0"
      ]
     },
     "execution_count": 19,
     "metadata": {},
     "output_type": "execute_result"
    }
   ],
   "source": [
    "rlm.coefA"
   ]
  }
 ],
 "metadata": {
  "interpreter": {
   "hash": "bfb68b2225589cc316d30e88ba24c3eabd5288851e9550411c910978f96ab4d6"
  },
  "kernelspec": {
   "display_name": "Python 3.10.2 64-bit",
   "language": "python",
   "name": "python3"
  },
  "language_info": {
   "codemirror_mode": {
    "name": "ipython",
    "version": 3
   },
   "file_extension": ".py",
   "mimetype": "text/x-python",
   "name": "python",
   "nbconvert_exporter": "python",
   "pygments_lexer": "ipython3",
   "version": "3.8.10"
  },
  "orig_nbformat": 4
 },
 "nbformat": 4,
 "nbformat_minor": 2
}
