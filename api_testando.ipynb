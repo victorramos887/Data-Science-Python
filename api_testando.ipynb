{
 "cells": [
  {
   "cell_type": "code",
   "execution_count": 1,
   "metadata": {},
   "outputs": [],
   "source": [
    "import requests\n",
    "import json\n",
    "\n"
   ]
  },
  {
   "cell_type": "code",
   "execution_count": 2,
   "metadata": {},
   "outputs": [
    {
     "name": "stdout",
     "output_type": "stream",
     "text": [
      "R$ 5.0867\n"
     ]
    }
   ],
   "source": [
    "cotacao = requests.get(\"https://economia.awesomeapi.com.br/last/USD-BRL,EUR-BRL,BTC-BRL\")\n",
    "\n",
    "cotacao = cotacao.json()\n",
    "\n",
    "cotacao_dolar = cotacao['USDBRL']\n",
    "\n",
    "print(f'R$ {cotacao_dolar[\"bid\"]}')"
   ]
  }
 ],
 "metadata": {
  "kernelspec": {
   "display_name": "Python 3.10.2 64-bit",
   "language": "python",
   "name": "python3"
  },
  "language_info": {
   "codemirror_mode": {
    "name": "ipython",
    "version": 3
   },
   "file_extension": ".py",
   "mimetype": "text/x-python",
   "name": "python",
   "nbconvert_exporter": "python",
   "pygments_lexer": "ipython3",
   "version": "3.10.6"
  },
  "orig_nbformat": 4,
  "vscode": {
   "interpreter": {
    "hash": "9aeacfb0680ea80b6c9180142cf439e78b5874de4f8a4b734e44b31b70ac0526"
   }
  }
 },
 "nbformat": 4,
 "nbformat_minor": 2
}
