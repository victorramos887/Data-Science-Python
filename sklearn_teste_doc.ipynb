{
 "cells": [
  {
   "cell_type": "code",
   "execution_count": 15,
   "metadata": {},
   "outputs": [
    {
     "name": "stdout",
     "output_type": "stream",
     "text": [
      "[ 6 16 26 36 46 56]\n",
      "[[ 6]\n",
      " [16]\n",
      " [26]\n",
      " [36]\n",
      " [46]\n",
      " [56]]\n",
      "coefficient of determination: 0.5417910447761195\n",
      "intercept: 4.026666666666664\n",
      "slope: [0.44]\n",
      "Predicted response:\n",
      "[ 6.66666667 11.06666667 15.46666667 19.86666667 24.26666667 28.66666667]\n"
     ]
    }
   ],
   "source": [
    "# Import the packages and classes needed in this example:\n",
    "import numpy as np\n",
    "from sklearn.linear_model import LinearRegression\n",
    "\n",
    "# Create a numpy array of data:\n",
    "x = np.array([6, 16, 26, 36, 46, 56])\n",
    "y = np.array([4, 23, 10, 12, 22, 35])\n",
    "\n",
    "print(x)\n",
    "\n",
    "x = x.reshape((-1, 1))\n",
    "\n",
    "print(x)\n",
    "# Create an instance of a linear regression model and fit it to the data with the fit() function:\n",
    "model = LinearRegression().fit(x, y) \n",
    "\n",
    "# The following section will get results by interpreting the created instance: \n",
    "\n",
    "# Obtain the coefficient of determination by calling the model with the score() function, then print the coefficient:\n",
    "r_sq = model.score(x, y)\n",
    "print('coefficient of determination:', r_sq)\n",
    "\n",
    "# Print the Intercept:\n",
    "print('intercept:', model.intercept_)\n",
    "\n",
    "# Print the Slope:\n",
    "print('slope:', model.coef_) \n",
    "\n",
    "# Predict a Response and print it:\n",
    "y_pred = model.predict(x)\n",
    "print('Predicted response:', y_pred, sep='\\n')"
   ]
  },
  {
   "cell_type": "code",
   "execution_count": 10,
   "metadata": {},
   "outputs": [
    {
     "name": "stdout",
     "output_type": "stream",
     "text": [
      "<class 'numpy.ndarray'>\n",
      "(6,)\n",
      "(6, 1)\n",
      "(6,)\n"
     ]
    }
   ],
   "source": [
    "print(type(y_pred))\n",
    "print(y_pred.shape)\n",
    "print(x.shape)\n",
    "print(y.shape)"
   ]
  },
  {
   "cell_type": "code",
   "execution_count": 3,
   "metadata": {},
   "outputs": [],
   "source": [
    "import matplotlib.pyplot as plt"
   ]
  },
  {
   "cell_type": "code",
   "execution_count": 5,
   "metadata": {},
   "outputs": [
    {
     "data": {
      "text/plain": [
       "[<matplotlib.lines.Line2D at 0x2a8897fb400>]"
      ]
     },
     "execution_count": 5,
     "metadata": {},
     "output_type": "execute_result"
    },
    {
     "data": {
      "image/png": "[encoded data removed]",
      "text/plain": [
       "<Figure size 432x288 with 1 Axes>"
      ]
     },
     "metadata": {},
     "output_type": "display_data"
    }
   ],
   "source": [
    "plt.scatter(x, y)\n",
    "plt.plot(x, y_pred)"
   ]
  }
 ],
 "metadata": {
  "interpreter": {
   "hash": "74318d29d7667f070e157a93e4c8d82f1156344b5d7e6607f82cca9d2c6dd821"
  },
  "kernelspec": {
   "display_name": "Python 3.8.10 ('venv': venv)",
   "language": "python",
   "name": "python3"
  },
  "language_info": {
   "codemirror_mode": {
    "name": "ipython",
    "version": 3
   },
   "file_extension": ".py",
   "mimetype": "text/x-python",
   "name": "python",
   "nbconvert_exporter": "python",
   "pygments_lexer": "ipython3",
   "version": "3.8.10"
  },
  "orig_nbformat": 4
 },
 "nbformat": 4,
 "nbformat_minor": 2
}
